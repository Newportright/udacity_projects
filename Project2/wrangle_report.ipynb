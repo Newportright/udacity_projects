{
 "cells": [
  {
   "cell_type": "markdown",
   "metadata": {},
   "source": [
    "### STUDENT INFOMATION\n",
    "\n",
    "* **Full Name:** Angel Newportright\n",
    "\n",
    "* **Email:** angeltucker007@gmail.com\n",
    "\n",
    "* **Country:** Nigeria"
   ]
  },
  {
   "cell_type": "markdown",
   "metadata": {},
   "source": [
    "##  INSTRUCTION:    (Reporting: wragle_report)\n",
    "* Create a **300-600 word written report** called \"wrangle_report.pdf\" or \"wrangle_report.html\" that briefly describes your wrangling efforts. This is to be framed as an internal document."
   ]
  },
  {
   "cell_type": "markdown",
   "metadata": {},
   "source": [
    "# WeRateDogs Analysis Report\n",
    "**Note: WeRateDogs is a Twitter account**\n",
    "    \n",
    "Wrangling the data for the WeRateDogs Analysis involved three(3) steps\n",
    "1. Gathering the Data\n",
    "2. Assessing the Data and\n",
    "3. Cleaning the Data"
   ]
  },
  {
   "cell_type": "markdown",
   "metadata": {},
   "source": [
    "## 1. Data was gathered from three(3) sources\n",
    "\n",
    "**1st Source- The WeRateDogs Twitter Archive**\n",
    "* This was a csv file which contained basic tweet data for all 5000+ of their tweets, but not everything. \n",
    "* WeRateDogs downloaded their Twitter archive and sent it to Udacity via email exclusively for use in this project. This archive contains basic tweet data (tweet ID, timestamp, text, etc.) for all 5000+ of their tweets as they stood on August 1, 2017.\n",
    "\n",
    "**2nd Source - The Image Predition Date**\n",
    "* This was provisioned as a http link provided by udacity conatining a `.tsv file`. The link was accessed programatically \n",
    "* This data contains the tweet image predictions present in each tweet according to a neural network that can classify breeds of dogs\n",
    "\n",
    "**3rd Source - Additional data from the Twitter API**\n",
    "* This data conatined each tweet's retweet count and favorite (\"like\") count\n",
    "* This data was to be accessed using Python's Tweepy library\n",
    "* Note that, while i am still awaiting for the tweeter developer access to be granted, a `Json` file was provided by udacity to help facilitate this wrangling process"
   ]
  },
  {
   "cell_type": "markdown",
   "metadata": {},
   "source": [
    "## 2. Data Assessment was done to pinpoint two type of issues\n",
    "\n",
    "1. Data Quality Problems and\n",
    "2. Data Tidyness Problems\n",
    "\n",
    "While Data quality assessment invloved identifying problems such as data types, incomplete data, inaccurate data, inconsistent data, Data Tidyness assessment invloved indentifying problem that are structural such as deleting columns that are irrelevant  to our analysis."
   ]
  },
  {
   "cell_type": "markdown",
   "metadata": {},
   "source": [
    "### 2i. Data Quality Problems\n",
    "\n",
    "**Tweeter Archive Data**\n",
    "\n",
    "1. The `timestamp` column has both date and time, `+0000` is not relevant\n",
    "2. The `source` column has HTML tags with 4 unique tags, each indicating the source (either from iPhone, Web Client,Vine, Tweet Deck)\n",
    "3. The ratings almost always have a denominator of 10 but `rating_denominator` column has values greater than ten (10)\n",
    "4. The `timestamp` column is in object data type should be converted to datetime format\n",
    "\n",
    "5A. The `retweeted_status_id` column has 78 values \n",
    "\n",
    "5B. The `retweeted_status_user_id` column has 78 values\n",
    " \n",
    "6A. The `in_reply_to_status_id` column has 181 values\n",
    "\n",
    "6B. The `in_reply_to_user_id` column has 181 values\n",
    "\n",
    "6C. The `retweeted_status_timestamp`column has 181 values\n",
    "\n",
    "7. The `expanded_urls` has 59 missing values. A Good number of the links seems to have expired\n",
    "8. The name column has `668` values of `None` and `55` values `a` \n",
    "9. The name columns has some strings in all lower case and some in title case\n",
    "\n",
    "**Image Prediction Data**\n",
    "\n",
    "10. Not all image predictions are dogs. some are book cases,shopping cart etc (p1_dog,p2_dog == False) with varying confidence level"
   ]
  },
  {
   "cell_type": "markdown",
   "metadata": {},
   "source": [
    "### 2ii. Data Tidyness Problems"
   ]
  },
  {
   "cell_type": "markdown",
   "metadata": {},
   "source": [
    "#### Tweeter Archive Data\n",
    "1. `doggo`, `floofer` , `pupper` , `puppo` are all classification. Observation fall into just one of these category.\n",
    "\n",
    "#### Image Prediction Data\n",
    "2. The image url column from the Image prediction table should be part of the Tweeter archive data"
   ]
  },
  {
   "cell_type": "markdown",
   "metadata": {},
   "source": [
    "## 3. Data cleaning was done to make our data ready for analysis and visualization\n",
    "\n",
    "Data cleaning was done with a simple approach.\n",
    "\n",
    "For each quality and tidyness issue highlighted above;\n",
    "\n",
    "**STEP 1** - The problem was defined\n",
    "\n",
    "**STEP 2** - The code that would solve the problem was defined\n",
    "\n",
    "**STEP 3** - The code was executed\n",
    "\n",
    "**STEP 4** - The result was tested to see if the problem was solved\n",
    "\n",
    "\n"
   ]
  },
  {
   "cell_type": "markdown",
   "metadata": {},
   "source": [
    "**It is worthy to note that after the required cleaning was done, the file was saved to the local machine**\n"
   ]
  }
 ],
 "metadata": {
  "kernelspec": {
   "display_name": "Python 3 (ipykernel)",
   "language": "python",
   "name": "python3"
  },
  "language_info": {
   "codemirror_mode": {
    "name": "ipython",
    "version": 3
   },
   "file_extension": ".py",
   "mimetype": "text/x-python",
   "name": "python",
   "nbconvert_exporter": "python",
   "pygments_lexer": "ipython3",
   "version": "3.9.12"
  }
 },
 "nbformat": 4,
 "nbformat_minor": 2
}
